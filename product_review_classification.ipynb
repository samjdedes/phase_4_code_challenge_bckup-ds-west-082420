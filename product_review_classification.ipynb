{
 "cells": [
  {
   "cell_type": "markdown",
   "metadata": {},
   "source": [
    "# Product Review Classification\n",
    "\n",
    "## Business Understanding\n",
    "Our company wants a tool that will automatically classify product reviews as _positive_ or _negative_ reviews, based on the features of the review.  This will help our Product team to perform more sophisticated analyses in the future to help ensure customer satisfaction.\n",
    "\n",
    "## Data Understanding\n",
    "We have a labeled collection of 20,000 product reviews, with an equal split of positive and negative reviews. The dataset contains the following features:\n",
    "\n",
    " - `ProductId` Unique identifier for the product\n",
    " - `UserId` Unqiue identifier for the user\n",
    " - `ProfileName` Profile name of the user\n",
    " - `HelpfulnessNumerator` Number of users who found the review helpful\n",
    " - `HelpfulnessDenominator` Number of users who indicated whether they found the review helpful or not\n",
    " - `Time` Timestamp for the review\n",
    " - `Summary` Brief summary of the review\n",
    " - `Text` Text of the review\n",
    " - `PositiveReview` 1 if this was labeled as a positive review, 0 if it was labeled as a negative review"
   ]
  },
  {
   "cell_type": "code",
   "execution_count": 1,
   "metadata": {},
   "outputs": [],
   "source": [
    "import pandas as pd\n",
    "import numpy as np\n",
    "from sklearn.model_selection import train_test_split\n",
    "from sklearn.feature_extraction.text import TfidfVectorizer\n",
    "from sklearn.preprocessing import OneHotEncoder, FunctionTransformer\n",
    "from sklearn.compose import ColumnTransformer\n",
    "from sklearn.pipeline import Pipeline\n",
    "from sklearn.ensemble import RandomForestClassifier\n",
    "from sklearn.metrics import confusion_matrix"
   ]
  },
  {
   "cell_type": "code",
   "execution_count": 2,
   "metadata": {},
   "outputs": [
    {
     "data": {
      "text/html": [
       "<div>\n",
       "<style scoped>\n",
       "    .dataframe tbody tr th:only-of-type {\n",
       "        vertical-align: middle;\n",
       "    }\n",
       "\n",
       "    .dataframe tbody tr th {\n",
       "        vertical-align: top;\n",
       "    }\n",
       "\n",
       "    .dataframe thead th {\n",
       "        text-align: right;\n",
       "    }\n",
       "</style>\n",
       "<table border=\"1\" class=\"dataframe\">\n",
       "  <thead>\n",
       "    <tr style=\"text-align: right;\">\n",
       "      <th></th>\n",
       "      <th>ProductId</th>\n",
       "      <th>UserId</th>\n",
       "      <th>ProfileName</th>\n",
       "      <th>HelpfulnessNumerator</th>\n",
       "      <th>HelpfulnessDenominator</th>\n",
       "      <th>Time</th>\n",
       "      <th>Summary</th>\n",
       "      <th>Text</th>\n",
       "      <th>PositiveReview</th>\n",
       "    </tr>\n",
       "  </thead>\n",
       "  <tbody>\n",
       "    <tr>\n",
       "      <th>0</th>\n",
       "      <td>B002QWHJOU</td>\n",
       "      <td>A37565LZHTG1VH</td>\n",
       "      <td>C. Maltese</td>\n",
       "      <td>1</td>\n",
       "      <td>1</td>\n",
       "      <td>1305331200</td>\n",
       "      <td>Awesome!</td>\n",
       "      <td>This is a great product. My 2 year old Golden ...</td>\n",
       "      <td>1</td>\n",
       "    </tr>\n",
       "    <tr>\n",
       "      <th>1</th>\n",
       "      <td>B000ESLJ6C</td>\n",
       "      <td>AMUAWXDJHE4D2</td>\n",
       "      <td>angieseashore</td>\n",
       "      <td>1</td>\n",
       "      <td>1</td>\n",
       "      <td>1320710400</td>\n",
       "      <td>Was there a recipe change?</td>\n",
       "      <td>I have been drinking Pero ever since I was a l...</td>\n",
       "      <td>0</td>\n",
       "    </tr>\n",
       "    <tr>\n",
       "      <th>2</th>\n",
       "      <td>B004IJJQK4</td>\n",
       "      <td>AMHHNAFJ9L958</td>\n",
       "      <td>A M</td>\n",
       "      <td>0</td>\n",
       "      <td>1</td>\n",
       "      <td>1321747200</td>\n",
       "      <td>These taste so bland.</td>\n",
       "      <td>Look, each pack contains two servings of 120 c...</td>\n",
       "      <td>0</td>\n",
       "    </tr>\n",
       "  </tbody>\n",
       "</table>\n",
       "</div>"
      ],
      "text/plain": [
       "    ProductId          UserId    ProfileName  HelpfulnessNumerator  \\\n",
       "0  B002QWHJOU  A37565LZHTG1VH     C. Maltese                     1   \n",
       "1  B000ESLJ6C   AMUAWXDJHE4D2  angieseashore                     1   \n",
       "2  B004IJJQK4   AMHHNAFJ9L958            A M                     0   \n",
       "\n",
       "   HelpfulnessDenominator        Time                     Summary  \\\n",
       "0                       1  1305331200                    Awesome!   \n",
       "1                       1  1320710400  Was there a recipe change?   \n",
       "2                       1  1321747200       These taste so bland.   \n",
       "\n",
       "                                                Text  PositiveReview  \n",
       "0  This is a great product. My 2 year old Golden ...               1  \n",
       "1  I have been drinking Pero ever since I was a l...               0  \n",
       "2  Look, each pack contains two servings of 120 c...               0  "
      ]
     },
     "execution_count": 2,
     "metadata": {},
     "output_type": "execute_result"
    }
   ],
   "source": [
    "df = pd.read_csv(\"reviews.csv\")\n",
    "df.head(3)"
   ]
  },
  {
   "cell_type": "markdown",
   "metadata": {},
   "source": [
    "The data has already been cleaned, so there are no missing values"
   ]
  },
  {
   "cell_type": "code",
   "execution_count": 3,
   "metadata": {},
   "outputs": [
    {
     "data": {
      "text/plain": [
       "ProductId                 0\n",
       "UserId                    0\n",
       "ProfileName               0\n",
       "HelpfulnessNumerator      0\n",
       "HelpfulnessDenominator    0\n",
       "Time                      0\n",
       "Summary                   0\n",
       "Text                      0\n",
       "PositiveReview            0\n",
       "dtype: int64"
      ]
     },
     "execution_count": 3,
     "metadata": {},
     "output_type": "execute_result"
    }
   ],
   "source": [
    "df.isna().sum()"
   ]
  },
  {
   "cell_type": "markdown",
   "metadata": {},
   "source": [
    "`PositiveReview` is the target, and all other columns are features"
   ]
  },
  {
   "cell_type": "code",
   "execution_count": 4,
   "metadata": {},
   "outputs": [],
   "source": [
    "X = df.drop(\"PositiveReview\", axis=1)\n",
    "y = df[\"PositiveReview\"]"
   ]
  },
  {
   "cell_type": "markdown",
   "metadata": {},
   "source": [
    "## Data Preparation\n",
    "\n",
    "First, split into train and test sets"
   ]
  },
  {
   "cell_type": "code",
   "execution_count": 5,
   "metadata": {},
   "outputs": [
    {
     "data": {
      "text/plain": [
       "(15000, 8)"
      ]
     },
     "execution_count": 5,
     "metadata": {},
     "output_type": "execute_result"
    }
   ],
   "source": [
    "X_train, X_test, y_train, y_test = train_test_split(X, y, random_state=42)\n",
    "X_train.shape"
   ]
  },
  {
   "cell_type": "markdown",
   "metadata": {},
   "source": [
    "Second, prepare for modeling. The following `Pipeline` prepares all data for modeling.  It one-hot encodes the `ProductId`, applies a tf-idf vectorizer to the `Summary` and `Text`, keeps the numeric columns as-is, and drops all other columns.\n",
    "\n",
    "The following code may take up to 1 minute to run."
   ]
  },
  {
   "cell_type": "code",
   "execution_count": 26,
   "metadata": {},
   "outputs": [
    {
     "data": {
      "text/plain": [
       "(15000, 11275)"
      ]
     },
     "execution_count": 26,
     "metadata": {},
     "output_type": "execute_result"
    }
   ],
   "source": [
    "def drop_irrelevant_columns(X):\n",
    "    return X.drop([\"UserId\", \"ProfileName\"], axis=1)\n",
    "\n",
    "pipeline = Pipeline(steps=[\n",
    "    (\"drop_columns\", FunctionTransformer(drop_irrelevant_columns)),\n",
    "    (\"transform_text_columns\", ColumnTransformer(transformers=[\n",
    "        (\"ohe\", OneHotEncoder(categories=\"auto\", handle_unknown=\"ignore\", sparse=False), [\"ProductId\"]),\n",
    "        (\"summary-tf-idf\", TfidfVectorizer(max_features=1000), \"Summary\"),\n",
    "        (\"text-tf-idf\", TfidfVectorizer(max_features=1000), \"Text\")\n",
    "    ], remainder=\"passthrough\"))\n",
    "])\n",
    "\n",
    "X_train_transformed = pipeline.fit_transform(X_train)\n",
    "X_test_transformed = pipeline.transform(X_test)\n",
    "\n",
    "X_train_transformed.shape"
   ]
  },
  {
   "cell_type": "markdown",
   "metadata": {},
   "source": [
    "## Modeling\n",
    "\n",
    "Fit a `RandomForestClassifier` with the best hyperparameters.  The following code may take up to 1 minute to run."
   ]
  },
  {
   "cell_type": "code",
   "execution_count": 7,
   "metadata": {},
   "outputs": [
    {
     "data": {
      "text/plain": [
       "RandomForestClassifier(max_depth=30, min_samples_split=15, random_state=42)"
      ]
     },
     "execution_count": 7,
     "metadata": {},
     "output_type": "execute_result"
    }
   ],
   "source": [
    "rfc = RandomForestClassifier(\n",
    "    random_state=42,\n",
    "    n_estimators=100,\n",
    "    max_depth=30,\n",
    "    min_samples_split=15,\n",
    "    min_samples_leaf=1\n",
    ")\n",
    "rfc.fit(X_train_transformed, y_train)"
   ]
  },
  {
   "cell_type": "markdown",
   "metadata": {},
   "source": [
    "## Model Evaluation\n",
    "\n",
    "We are using _accuracy_ as our metric, which is the default metric in Scikit-Learn, so it is possible to just use the built-in `.score` method"
   ]
  },
  {
   "cell_type": "code",
   "execution_count": 8,
   "metadata": {},
   "outputs": [
    {
     "name": "stdout",
     "output_type": "stream",
     "text": [
      "Train accuracy: 0.9826666666666667\n",
      "Test accuracy: 0.913\n"
     ]
    }
   ],
   "source": [
    "print(\"Train accuracy:\", rfc.score(X_train_transformed, y_train))\n",
    "print(\"Test accuracy:\", rfc.score(X_test_transformed, y_test))"
   ]
  },
  {
   "cell_type": "code",
   "execution_count": 12,
   "metadata": {},
   "outputs": [
    {
     "name": "stdout",
     "output_type": "stream",
     "text": [
      "Train confusion matrix:\n",
      "[[7312  177]\n",
      " [  83 7428]]\n",
      "Test confusion matrix:\n",
      "[[2293  218]\n",
      " [ 217 2272]]\n"
     ]
    }
   ],
   "source": [
    "print(\"Train confusion matrix:\")\n",
    "print(confusion_matrix(y_train, rfc.predict(X_train_transformed)))\n",
    "print(\"Test confusion matrix:\")\n",
    "print(confusion_matrix(y_test, rfc.predict(X_test_transformed)))"
   ]
  },
  {
   "cell_type": "markdown",
   "metadata": {},
   "source": [
    "## Business Interpretation\n",
    "\n",
    "The tuned Random Forest Classifier model appears to be somewhat overfit on the training data, but nevertheless achieves 91% accuracy on the test data.  Of the 9% of mislabeled comments, about half are false positives and half are false negatives.\n",
    "\n",
    "Because this is a balanced dataset, 91% accuracy is a substantial improvement over a 50% baseline.  This model is ready for production use for decision support."
   ]
  },
  {
   "cell_type": "markdown",
   "metadata": {},
   "source": [
    "## Preprocess Data"
   ]
  },
  {
   "cell_type": "code",
   "execution_count": 14,
   "metadata": {},
   "outputs": [],
   "source": [
    "# import\n",
    "from sklearn.preprocessing import StandardScaler"
   ]
  },
  {
   "cell_type": "code",
   "execution_count": 27,
   "metadata": {},
   "outputs": [],
   "source": [
    "# # instantiate, fit standard scaler on train data\n",
    "# ss = StandardScaler()\n",
    "# ss.fit(X_train_transformed)\n",
    "\n",
    "# # transform train data\n",
    "# X_train_sc = ss.transform(X_train_transformed)\n"
   ]
  },
  {
   "cell_type": "code",
   "execution_count": 34,
   "metadata": {},
   "outputs": [
    {
     "data": {
      "text/plain": [
       "(15000, 11275)"
      ]
     },
     "execution_count": 34,
     "metadata": {},
     "output_type": "execute_result"
    }
   ],
   "source": [
    "# create pipeline with standard scaler\n",
    "pipeline_sc = Pipeline(steps=[\n",
    "    (\"drop_columns\", FunctionTransformer(drop_irrelevant_columns)),\n",
    "    (\"transform_text_columns\", ColumnTransformer(transformers=[\n",
    "        (\"ohe\", OneHotEncoder(categories=\"auto\", handle_unknown=\"ignore\", sparse=False), [\"ProductId\"]),\n",
    "        (\"summary-tf-idf\", TfidfVectorizer(max_features=1000), \"Summary\"),\n",
    "        (\"text-tf-idf\", TfidfVectorizer(max_features=1000), \"Text\")], remainder=\"passthrough\")),\n",
    "    ('scale', StandardScaler())])\n",
    "\n",
    "X_train_transformed_scaled = pipeline_sc.fit_transform(X_train)\n",
    "X_test_transformed_scaled = pipeline_sc.transform(X_test)\n",
    "\n",
    "X_train_transformed_scaled.shape"
   ]
  },
  {
   "cell_type": "markdown",
   "metadata": {},
   "source": [
    "## Model"
   ]
  },
  {
   "cell_type": "code",
   "execution_count": 60,
   "metadata": {},
   "outputs": [],
   "source": [
    "from tensorflow.keras.models import Sequential\n",
    "from tensorflow.keras.layers import Dense\n",
    "from keras.callbacks import EarlyStopping"
   ]
  },
  {
   "cell_type": "code",
   "execution_count": 99,
   "metadata": {},
   "outputs": [
    {
     "name": "stdout",
     "output_type": "stream",
     "text": [
      "Epoch 1/50\n",
      "422/422 [==============================] - 3s 8ms/step - loss: 0.4533 - accuracy: 0.8164 - val_loss: 0.3191 - val_accuracy: 0.8667\n",
      "Epoch 2/50\n",
      "422/422 [==============================] - 3s 7ms/step - loss: 0.1864 - accuracy: 0.9359 - val_loss: 0.2186 - val_accuracy: 0.9213\n",
      "Epoch 3/50\n",
      "422/422 [==============================] - 3s 6ms/step - loss: 0.0987 - accuracy: 0.9716 - val_loss: 0.2118 - val_accuracy: 0.9220\n",
      "Epoch 4/50\n",
      "422/422 [==============================] - 3s 7ms/step - loss: 0.0555 - accuracy: 0.9879 - val_loss: 0.2152 - val_accuracy: 0.9200\n",
      "Epoch 5/50\n",
      "422/422 [==============================] - 3s 7ms/step - loss: 0.0342 - accuracy: 0.9939 - val_loss: 0.2230 - val_accuracy: 0.9193\n",
      "Epoch 6/50\n",
      "422/422 [==============================] - 3s 6ms/step - loss: 0.0227 - accuracy: 0.9966 - val_loss: 0.2407 - val_accuracy: 0.9133\n",
      "Epoch 7/50\n",
      "422/422 [==============================] - 3s 6ms/step - loss: 0.0169 - accuracy: 0.9976 - val_loss: 0.2409 - val_accuracy: 0.9167\n",
      "Epoch 8/50\n",
      "422/422 [==============================] - 3s 6ms/step - loss: 0.0130 - accuracy: 0.9982 - val_loss: 0.2479 - val_accuracy: 0.9207\n",
      "Epoch 9/50\n",
      "422/422 [==============================] - 3s 6ms/step - loss: 0.0095 - accuracy: 0.9987 - val_loss: 0.2574 - val_accuracy: 0.9200\n",
      "Epoch 10/50\n",
      "422/422 [==============================] - 3s 6ms/step - loss: 0.0069 - accuracy: 0.9993 - val_loss: 0.2637 - val_accuracy: 0.9180\n",
      "Epoch 11/50\n",
      "422/422 [==============================] - 3s 6ms/step - loss: 0.0055 - accuracy: 0.9995 - val_loss: 0.2821 - val_accuracy: 0.9113\n",
      "Epoch 12/50\n",
      "422/422 [==============================] - 3s 7ms/step - loss: 0.0039 - accuracy: 0.9997 - val_loss: 0.2780 - val_accuracy: 0.9140\n",
      "Epoch 13/50\n",
      "422/422 [==============================] - 3s 7ms/step - loss: 0.0030 - accuracy: 0.9998 - val_loss: 0.2925 - val_accuracy: 0.9087\n",
      "Epoch 14/50\n",
      "422/422 [==============================] - 3s 6ms/step - loss: 0.0026 - accuracy: 0.9999 - val_loss: 0.2957 - val_accuracy: 0.9147\n",
      "Epoch 15/50\n",
      "422/422 [==============================] - 3s 6ms/step - loss: 0.0024 - accuracy: 0.9999 - val_loss: 0.3083 - val_accuracy: 0.9127\n",
      "Epoch 16/50\n",
      "422/422 [==============================] - 3s 6ms/step - loss: 0.0021 - accuracy: 0.9999 - val_loss: 0.3225 - val_accuracy: 0.9087\n",
      "Epoch 17/50\n",
      "422/422 [==============================] - 3s 6ms/step - loss: 0.0020 - accuracy: 0.9999 - val_loss: 0.3390 - val_accuracy: 0.9067\n",
      "Epoch 18/50\n",
      "422/422 [==============================] - 3s 6ms/step - loss: 0.0019 - accuracy: 0.9999 - val_loss: 0.3585 - val_accuracy: 0.9053\n",
      "Epoch 19/50\n",
      "422/422 [==============================] - 3s 6ms/step - loss: 0.0017 - accuracy: 0.9999 - val_loss: 0.3842 - val_accuracy: 0.9033\n",
      "Epoch 20/50\n",
      "422/422 [==============================] - 3s 6ms/step - loss: 0.0012 - accuracy: 0.9999 - val_loss: 0.4173 - val_accuracy: 0.8980\n",
      "Epoch 21/50\n",
      "422/422 [==============================] - 3s 6ms/step - loss: 9.2383e-04 - accuracy: 0.9999 - val_loss: 0.4333 - val_accuracy: 0.8987\n",
      "Epoch 22/50\n",
      "422/422 [==============================] - 3s 6ms/step - loss: 6.2140e-04 - accuracy: 1.0000 - val_loss: 0.4525 - val_accuracy: 0.8960\n",
      "Epoch 23/50\n",
      "422/422 [==============================] - 3s 6ms/step - loss: 5.2319e-04 - accuracy: 1.0000 - val_loss: 0.4689 - val_accuracy: 0.8933\n",
      "Epoch 24/50\n",
      "422/422 [==============================] - 3s 6ms/step - loss: 4.4086e-04 - accuracy: 1.0000 - val_loss: 0.4850 - val_accuracy: 0.8907\n",
      "Epoch 25/50\n",
      "422/422 [==============================] - 3s 7ms/step - loss: 3.5907e-04 - accuracy: 1.0000 - val_loss: 0.5021 - val_accuracy: 0.8880\n",
      "Epoch 26/50\n",
      "422/422 [==============================] - 3s 6ms/step - loss: 2.8133e-04 - accuracy: 1.0000 - val_loss: 0.5200 - val_accuracy: 0.8873\n",
      "Epoch 27/50\n",
      "422/422 [==============================] - 3s 7ms/step - loss: 2.1252e-04 - accuracy: 1.0000 - val_loss: 0.5379 - val_accuracy: 0.8867\n",
      "Epoch 28/50\n",
      "422/422 [==============================] - 3s 7ms/step - loss: 1.5538e-04 - accuracy: 1.0000 - val_loss: 0.5568 - val_accuracy: 0.8867\n",
      "Epoch 29/50\n",
      "422/422 [==============================] - 3s 7ms/step - loss: 1.1049e-04 - accuracy: 1.0000 - val_loss: 0.5758 - val_accuracy: 0.8867\n",
      "Epoch 30/50\n",
      "422/422 [==============================] - 3s 6ms/step - loss: 7.6838e-05 - accuracy: 1.0000 - val_loss: 0.5962 - val_accuracy: 0.8853\n",
      "Epoch 31/50\n",
      "422/422 [==============================] - 3s 6ms/step - loss: 5.2517e-05 - accuracy: 1.0000 - val_loss: 0.6167 - val_accuracy: 0.8873\n",
      "Epoch 32/50\n",
      "422/422 [==============================] - 3s 6ms/step - loss: 3.5435e-05 - accuracy: 1.0000 - val_loss: 0.6373 - val_accuracy: 0.8880\n",
      "Epoch 33/50\n",
      "422/422 [==============================] - 3s 6ms/step - loss: 2.3693e-05 - accuracy: 1.0000 - val_loss: 0.6586 - val_accuracy: 0.8880\n",
      "Epoch 34/50\n",
      "422/422 [==============================] - 3s 6ms/step - loss: 1.5739e-05 - accuracy: 1.0000 - val_loss: 0.6807 - val_accuracy: 0.8880\n",
      "Epoch 35/50\n",
      "422/422 [==============================] - 3s 7ms/step - loss: 1.0412e-05 - accuracy: 1.0000 - val_loss: 0.7029 - val_accuracy: 0.8880\n",
      "Epoch 36/50\n",
      "422/422 [==============================] - 3s 7ms/step - loss: 6.8734e-06 - accuracy: 1.0000 - val_loss: 0.7255 - val_accuracy: 0.8887\n",
      "Epoch 37/50\n",
      "422/422 [==============================] - 3s 6ms/step - loss: 4.5292e-06 - accuracy: 1.0000 - val_loss: 0.7481 - val_accuracy: 0.8887\n",
      "Epoch 38/50\n",
      "422/422 [==============================] - 3s 7ms/step - loss: 2.9812e-06 - accuracy: 1.0000 - val_loss: 0.7705 - val_accuracy: 0.8887\n",
      "Epoch 39/50\n",
      "422/422 [==============================] - 3s 6ms/step - loss: 1.9626e-06 - accuracy: 1.0000 - val_loss: 0.7929 - val_accuracy: 0.8880\n",
      "Epoch 40/50\n",
      "422/422 [==============================] - 3s 7ms/step - loss: 1.2928e-06 - accuracy: 1.0000 - val_loss: 0.8153 - val_accuracy: 0.8880\n",
      "Epoch 41/50\n",
      "422/422 [==============================] - 3s 7ms/step - loss: 8.5259e-07 - accuracy: 1.0000 - val_loss: 0.8375 - val_accuracy: 0.8880\n",
      "Epoch 42/50\n",
      "422/422 [==============================] - 3s 6ms/step - loss: 5.6380e-07 - accuracy: 1.0000 - val_loss: 0.8596 - val_accuracy: 0.8880\n",
      "Epoch 43/50\n",
      "422/422 [==============================] - 3s 6ms/step - loss: 3.7429e-07 - accuracy: 1.0000 - val_loss: 0.8812 - val_accuracy: 0.8880\n",
      "Epoch 44/50\n",
      "422/422 [==============================] - 3s 6ms/step - loss: 2.4993e-07 - accuracy: 1.0000 - val_loss: 0.9023 - val_accuracy: 0.8880\n",
      "Epoch 45/50\n",
      "422/422 [==============================] - 3s 6ms/step - loss: 1.6828e-07 - accuracy: 1.0000 - val_loss: 0.9228 - val_accuracy: 0.8880\n",
      "Epoch 46/50\n",
      "422/422 [==============================] - 3s 6ms/step - loss: 1.1464e-07 - accuracy: 1.0000 - val_loss: 0.9423 - val_accuracy: 0.8887\n",
      "Epoch 47/50\n",
      "422/422 [==============================] - 3s 6ms/step - loss: 7.9747e-08 - accuracy: 1.0000 - val_loss: 0.9607 - val_accuracy: 0.8887\n",
      "Epoch 48/50\n",
      "422/422 [==============================] - 3s 6ms/step - loss: 5.6318e-08 - accuracy: 1.0000 - val_loss: 0.9774 - val_accuracy: 0.8887\n",
      "Epoch 49/50\n",
      "422/422 [==============================] - 3s 6ms/step - loss: 4.1896e-08 - accuracy: 1.0000 - val_loss: 0.9928 - val_accuracy: 0.8887\n",
      "Epoch 50/50\n",
      "422/422 [==============================] - 3s 6ms/step - loss: 2.9758e-08 - accuracy: 1.0000 - val_loss: 1.0076 - val_accuracy: 0.8893\n"
     ]
    }
   ],
   "source": [
    "model0 = Sequential()\n",
    "model0.add(Dense(64, input_shape=(11275,), activation='tanh'))\n",
    "model0.add(Dense(32, activation='relu'))\n",
    "model0.add(Dense(16, activation='sigmoid'))\n",
    "model0.add(Dense(1, activation='sigmoid'))\n",
    "\n",
    "\n",
    "early_stop = EarlyStopping(monitor='val_loss', min_delta=1e-9, patience=6, verbose=1,\n",
    "                           mode='min')\n",
    "model0.compile(optimizer='Adamax', loss='binary_crossentropy', metrics=['accuracy'])\n",
    "\n",
    "early_stop = EarlyStopping(monitor='val_loss', min_delta=1e-20, patience=6, verbose=1,\n",
    "                           mode='min')\n",
    "results = model0.fit(X_train_transformed_scaled, y_train, validation_split=0.1, epochs=50) #, callbacks=[early_stop])"
   ]
  },
  {
   "cell_type": "markdown",
   "metadata": {},
   "source": [
    "## Tune Model"
   ]
  },
  {
   "cell_type": "code",
   "execution_count": 94,
   "metadata": {},
   "outputs": [
    {
     "name": "stdout",
     "output_type": "stream",
     "text": [
      "Epoch 1/50\n",
      "422/422 [==============================] - 3s 7ms/step - loss: 0.3352 - accuracy: 0.8644 - val_loss: 0.2162 - val_accuracy: 0.9167\n",
      "Epoch 2/50\n",
      "422/422 [==============================] - 3s 6ms/step - loss: 0.0786 - accuracy: 0.9803 - val_loss: 0.2322 - val_accuracy: 0.9153\n",
      "Epoch 3/50\n",
      "422/422 [==============================] - 3s 7ms/step - loss: 0.0275 - accuracy: 0.9939 - val_loss: 0.2781 - val_accuracy: 0.9100\n",
      "Epoch 4/50\n",
      "422/422 [==============================] - 3s 6ms/step - loss: 0.0132 - accuracy: 0.9975 - val_loss: 0.2918 - val_accuracy: 0.9147\n",
      "Epoch 5/50\n",
      "422/422 [==============================] - 3s 6ms/step - loss: 0.0076 - accuracy: 0.9990 - val_loss: 0.3205 - val_accuracy: 0.9133\n",
      "Epoch 6/50\n",
      "422/422 [==============================] - 2s 6ms/step - loss: 0.0050 - accuracy: 0.9996 - val_loss: 0.3411 - val_accuracy: 0.9107\n",
      "Epoch 7/50\n",
      "422/422 [==============================] - 3s 6ms/step - loss: 0.0037 - accuracy: 0.9997 - val_loss: 0.3582 - val_accuracy: 0.9153\n",
      "Epoch 00007: early stopping\n"
     ]
    }
   ],
   "source": [
    "model1 = Sequential()\n",
    "model1.add(Dense(64, input_shape=(11275,), activation='tanh'))\n",
    "model1.add(Dense(32, activation='relu'))\n",
    "model1.add(Dense(16, activation='sigmoid'))\n",
    "model1.add(Dense(1, activation='sigmoid'))\n",
    "\n",
    "model1.compile(optimizer='Adam', loss='binary_crossentropy', metrics=['accuracy'])\n",
    "\n",
    "results = model1.fit(X_train_transformed_scaled, y_train, validation_split=0.1, epochs=50, callbacks=[early_stop])"
   ]
  },
  {
   "cell_type": "code",
   "execution_count": 93,
   "metadata": {},
   "outputs": [
    {
     "name": "stdout",
     "output_type": "stream",
     "text": [
      "Epoch 1/50\n",
      "422/422 [==============================] - 3s 7ms/step - loss: 0.3030 - accuracy: 0.8676 - val_loss: 0.2162 - val_accuracy: 0.9160\n",
      "Epoch 2/50\n",
      "422/422 [==============================] - 3s 6ms/step - loss: 0.0527 - accuracy: 0.9841 - val_loss: 0.2435 - val_accuracy: 0.9187\n",
      "Epoch 3/50\n",
      "422/422 [==============================] - 3s 7ms/step - loss: 0.0169 - accuracy: 0.9952 - val_loss: 0.2741 - val_accuracy: 0.9193\n",
      "Epoch 4/50\n",
      "422/422 [==============================] - 3s 6ms/step - loss: 0.0076 - accuracy: 0.9982 - val_loss: 0.3114 - val_accuracy: 0.9093\n",
      "Epoch 5/50\n",
      "422/422 [==============================] - 3s 6ms/step - loss: 0.0041 - accuracy: 0.9994 - val_loss: 0.3443 - val_accuracy: 0.9140\n",
      "Epoch 6/50\n",
      "422/422 [==============================] - 3s 6ms/step - loss: 0.0031 - accuracy: 0.9996 - val_loss: 0.3608 - val_accuracy: 0.9127\n",
      "Epoch 7/50\n",
      "422/422 [==============================] - 3s 6ms/step - loss: 0.0023 - accuracy: 0.9998 - val_loss: 0.3782 - val_accuracy: 0.9133\n",
      "Epoch 00007: early stopping\n"
     ]
    }
   ],
   "source": [
    "model2 = Sequential()\n",
    "model2.add(Dense(64, input_shape=(11275,), activation='relu'))\n",
    "model2.add(Dense(32, activation='selu'))\n",
    "model2.add(Dense(16, activation='tanh'))\n",
    "model2.add(Dense(1, activation='sigmoid'))\n",
    "\n",
    "model2.compile(optimizer='Adam', loss='binary_crossentropy', metrics=['accuracy'])\n",
    "\n",
    "\n",
    "results = model2.fit(X_train_transformed_scaled, y_train, validation_split=0.1, epochs=50, callbacks=[early_stop])"
   ]
  },
  {
   "cell_type": "code",
   "execution_count": 96,
   "metadata": {},
   "outputs": [
    {
     "name": "stdout",
     "output_type": "stream",
     "text": [
      "Epoch 1/50\n",
      "422/422 [==============================] - 3s 6ms/step - loss: 0.2906 - accuracy: 0.8850 - val_loss: 0.2098 - val_accuracy: 0.9167\n",
      "Epoch 2/50\n",
      "422/422 [==============================] - 2s 6ms/step - loss: 0.0525 - accuracy: 0.9841 - val_loss: 0.2306 - val_accuracy: 0.9147\n",
      "Epoch 3/50\n",
      "422/422 [==============================] - 2s 6ms/step - loss: 0.0219 - accuracy: 0.9938 - val_loss: 0.2578 - val_accuracy: 0.9140\n",
      "Epoch 4/50\n",
      "422/422 [==============================] - 3s 6ms/step - loss: 0.0087 - accuracy: 0.9979 - val_loss: 0.2804 - val_accuracy: 0.9180\n",
      "Epoch 5/50\n",
      "422/422 [==============================] - 2s 6ms/step - loss: 0.0046 - accuracy: 0.9988 - val_loss: 0.3127 - val_accuracy: 0.9173\n",
      "Epoch 6/50\n",
      "422/422 [==============================] - 2s 6ms/step - loss: 0.0039 - accuracy: 0.9993 - val_loss: 0.3506 - val_accuracy: 0.9100\n",
      "Epoch 7/50\n",
      "422/422 [==============================] - 3s 6ms/step - loss: 0.0023 - accuracy: 0.9996 - val_loss: 0.3806 - val_accuracy: 0.9087\n",
      "Epoch 00007: early stopping\n"
     ]
    }
   ],
   "source": [
    "model3 = Sequential()\n",
    "model3.add(Dense(64, input_shape=(11275,), activation='tanh'))\n",
    "model3.add(Dense(32, activation='sigmoid'))\n",
    "model3.add(Dense(16, activation='tanh'))\n",
    "model3.add(Dense(1, activation='sigmoid'))\n",
    "\n",
    "model3.compile(optimizer='Adam', loss='binary_crossentropy', metrics=['accuracy'])\n",
    "\n",
    "results = model3.fit(X_train_transformed_scaled, y_train, validation_split=0.1, epochs=50, callbacks=[early_stop])"
   ]
  },
  {
   "cell_type": "code",
   "execution_count": 86,
   "metadata": {},
   "outputs": [
    {
     "name": "stdout",
     "output_type": "stream",
     "text": [
      "Epoch 1/50\n",
      "422/422 [==============================] - 3s 7ms/step - loss: 0.3496 - accuracy: 0.8525 - val_loss: 0.2154 - val_accuracy: 0.9133\n",
      "Epoch 2/50\n",
      "422/422 [==============================] - 3s 7ms/step - loss: 0.1282 - accuracy: 0.9530 - val_loss: 0.2044 - val_accuracy: 0.9240\n",
      "Epoch 3/50\n",
      "422/422 [==============================] - 3s 6ms/step - loss: 0.0643 - accuracy: 0.9804 - val_loss: 0.2537 - val_accuracy: 0.9100\n",
      "Epoch 4/50\n",
      "422/422 [==============================] - 3s 6ms/step - loss: 0.0315 - accuracy: 0.9925 - val_loss: 0.2456 - val_accuracy: 0.9207\n",
      "Epoch 5/50\n",
      "422/422 [==============================] - 3s 6ms/step - loss: 0.0150 - accuracy: 0.9968 - val_loss: 0.3095 - val_accuracy: 0.9113\n",
      "Epoch 00005: early stopping\n"
     ]
    }
   ],
   "source": [
    "model4 = Sequential()\n",
    "model4.add(Dense(64, input_shape=(11275,), activation='tanh'))\n",
    "model4.add(Dense(64, activation='sigmoid'))\n",
    "model4.add(Dense(64, activation='tanh'))\n",
    "model4.add(Dense(1, activation='sigmoid'))\n",
    "\n",
    "model4.compile(optimizer='Adamax', loss='binary_crossentropy', metrics=['accuracy'])\n",
    "\n",
    "results = model4.fit(X_train_transformed_scaled, y_train, validation_split=0.1, epochs=50, callbacks=[early_stop])"
   ]
  },
  {
   "cell_type": "code",
   "execution_count": 90,
   "metadata": {},
   "outputs": [
    {
     "name": "stdout",
     "output_type": "stream",
     "text": [
      "Epoch 1/50\n",
      "422/422 [==============================] - 3s 7ms/step - loss: 0.4072 - accuracy: 0.8068 - val_loss: 0.2646 - val_accuracy: 0.8920\n",
      "Epoch 2/50\n",
      "422/422 [==============================] - 3s 7ms/step - loss: 0.1428 - accuracy: 0.9468 - val_loss: 0.2589 - val_accuracy: 0.9020\n",
      "Epoch 3/50\n",
      "422/422 [==============================] - 3s 7ms/step - loss: 0.0578 - accuracy: 0.9815 - val_loss: 0.2857 - val_accuracy: 0.9040\n",
      "Epoch 4/50\n",
      "422/422 [==============================] - 3s 7ms/step - loss: 0.0198 - accuracy: 0.9951 - val_loss: 0.3034 - val_accuracy: 0.9067\n",
      "Epoch 5/50\n",
      "422/422 [==============================] - 3s 7ms/step - loss: 0.0060 - accuracy: 0.9987 - val_loss: 0.3676 - val_accuracy: 0.9013\n",
      "Epoch 6/50\n",
      "422/422 [==============================] - 3s 7ms/step - loss: 0.0015 - accuracy: 0.9999 - val_loss: 0.3896 - val_accuracy: 0.9047\n",
      "Epoch 7/50\n",
      "422/422 [==============================] - 3s 7ms/step - loss: 5.1469e-04 - accuracy: 1.0000 - val_loss: 0.4005 - val_accuracy: 0.9073\n",
      "Epoch 8/50\n",
      "422/422 [==============================] - 3s 7ms/step - loss: 2.3898e-04 - accuracy: 1.0000 - val_loss: 0.4219 - val_accuracy: 0.9087\n",
      "Epoch 9/50\n",
      "422/422 [==============================] - 3s 6ms/step - loss: 1.2649e-04 - accuracy: 1.0000 - val_loss: 0.4403 - val_accuracy: 0.9093\n",
      "Epoch 10/50\n",
      "422/422 [==============================] - 3s 6ms/step - loss: 7.0369e-05 - accuracy: 1.0000 - val_loss: 0.4528 - val_accuracy: 0.9087\n",
      "Epoch 11/50\n",
      "422/422 [==============================] - 3s 7ms/step - loss: 4.0235e-05 - accuracy: 1.0000 - val_loss: 0.4690 - val_accuracy: 0.9100\n",
      "Epoch 12/50\n",
      "422/422 [==============================] - 3s 7ms/step - loss: 2.3295e-05 - accuracy: 1.0000 - val_loss: 0.4849 - val_accuracy: 0.9100\n",
      "Epoch 00012: early stopping\n"
     ]
    }
   ],
   "source": [
    "model5 = Sequential()\n",
    "model5.add(Dense(64, input_shape=(11275,), activation='tanh'))\n",
    "model5.add(Dense(64, activation='relu'))\n",
    "model5.add(Dense(64, activation='selu'))\n",
    "model5.add(Dense(1, activation='sigmoid'))\n",
    "\n",
    "model5.compile(optimizer='Adamax', loss='binary_crossentropy', metrics=['accuracy'])\n",
    "\n",
    "results = model5.fit(X_train_transformed_scaled, y_train, validation_split=0.1, epochs=50, callbacks=[early_stop])"
   ]
  },
  {
   "cell_type": "code",
   "execution_count": 91,
   "metadata": {},
   "outputs": [
    {
     "name": "stdout",
     "output_type": "stream",
     "text": [
      "Epoch 1/50\n",
      "422/422 [==============================] - 3s 6ms/step - loss: 0.3581 - accuracy: 0.8703 - val_loss: 0.2080 - val_accuracy: 0.9320\n",
      "Epoch 2/50\n",
      "422/422 [==============================] - 3s 6ms/step - loss: 0.1027 - accuracy: 0.9695 - val_loss: 0.2182 - val_accuracy: 0.9220\n",
      "Epoch 3/50\n",
      "422/422 [==============================] - 2s 6ms/step - loss: 0.0364 - accuracy: 0.9924 - val_loss: 0.2381 - val_accuracy: 0.9227\n",
      "Epoch 4/50\n",
      "422/422 [==============================] - 3s 6ms/step - loss: 0.0184 - accuracy: 0.9966 - val_loss: 0.2601 - val_accuracy: 0.9207\n",
      "Epoch 5/50\n",
      "422/422 [==============================] - 3s 7ms/step - loss: 0.0098 - accuracy: 0.9988 - val_loss: 0.2873 - val_accuracy: 0.9220\n",
      "Epoch 6/50\n",
      "422/422 [==============================] - 3s 6ms/step - loss: 0.0071 - accuracy: 0.9990 - val_loss: 0.3163 - val_accuracy: 0.9207\n",
      "Epoch 7/50\n",
      "422/422 [==============================] - 3s 6ms/step - loss: 0.0055 - accuracy: 0.9992 - val_loss: 0.3224 - val_accuracy: 0.9233\n",
      "Epoch 8/50\n",
      "422/422 [==============================] - 3s 6ms/step - loss: 0.0039 - accuracy: 0.9996 - val_loss: 0.3397 - val_accuracy: 0.9213\n",
      "Epoch 9/50\n",
      "422/422 [==============================] - 2s 6ms/step - loss: 0.0034 - accuracy: 0.9996 - val_loss: 0.3564 - val_accuracy: 0.9227\n",
      "Epoch 10/50\n",
      "422/422 [==============================] - 2s 6ms/step - loss: 0.0029 - accuracy: 0.9996 - val_loss: 0.3749 - val_accuracy: 0.9240\n",
      "Epoch 11/50\n",
      "422/422 [==============================] - 3s 6ms/step - loss: 0.0027 - accuracy: 0.9996 - val_loss: 0.4593 - val_accuracy: 0.9093\n",
      "Epoch 00011: early stopping\n"
     ]
    }
   ],
   "source": [
    "model6 = Sequential()\n",
    "model6.add(Dense(64, input_shape=(11275,), activation='sigmoid'))\n",
    "model6.add(Dense(32, activation='sigmoid'))\n",
    "model6.add(Dense(16, activation='sigmoid'))\n",
    "model6.add(Dense(1, activation='sigmoid'))\n",
    "\n",
    "model6.compile(optimizer='Adam', loss='binary_crossentropy', metrics=['accuracy'])\n",
    "\n",
    "results = model6.fit(X_train_transformed_scaled, y_train, validation_split=0.1, epochs=50, callbacks=[early_stop])"
   ]
  },
  {
   "cell_type": "code",
   "execution_count": 98,
   "metadata": {},
   "outputs": [
    {
     "name": "stdout",
     "output_type": "stream",
     "text": [
      "Epoch 1/50\n",
      "422/422 [==============================] - 3s 7ms/step - loss: 0.3052 - accuracy: 0.8720 - val_loss: 0.1880 - val_accuracy: 0.9273\n",
      "Epoch 2/50\n",
      "422/422 [==============================] - 3s 6ms/step - loss: 0.0586 - accuracy: 0.9833 - val_loss: 0.2202 - val_accuracy: 0.9227\n",
      "Epoch 3/50\n",
      "422/422 [==============================] - 2s 6ms/step - loss: 0.0206 - accuracy: 0.9947 - val_loss: 0.2514 - val_accuracy: 0.9233\n",
      "Epoch 4/50\n",
      "422/422 [==============================] - 3s 6ms/step - loss: 0.0111 - accuracy: 0.9976 - val_loss: 0.2877 - val_accuracy: 0.9227\n",
      "Epoch 5/50\n",
      "422/422 [==============================] - 3s 6ms/step - loss: 0.0073 - accuracy: 0.9986 - val_loss: 0.3165 - val_accuracy: 0.9173\n",
      "Epoch 6/50\n",
      "422/422 [==============================] - 2s 6ms/step - loss: 0.0062 - accuracy: 0.9990 - val_loss: 0.3447 - val_accuracy: 0.9147\n",
      "Epoch 7/50\n",
      "422/422 [==============================] - 2s 6ms/step - loss: 0.0034 - accuracy: 0.9995 - val_loss: 0.4275 - val_accuracy: 0.9053\n",
      "Epoch 00007: early stopping\n"
     ]
    }
   ],
   "source": [
    "model61 = Sequential()\n",
    "model61.add(Dense(64, input_shape=(11275,), activation='sigmoid'))\n",
    "model61.add(Dense(64, activation='sigmoid'))\n",
    "model61.add(Dense(64, activation='sigmoid'))\n",
    "model61.add(Dense(1, activation='sigmoid'))\n",
    "\n",
    "model61.compile(optimizer='Adam', loss='binary_crossentropy', metrics=['accuracy'])\n",
    "\n",
    "results = model61.fit(X_train_transformed_scaled, y_train, validation_split=0.1, epochs=50, callbacks=[early_stop])"
   ]
  },
  {
   "cell_type": "code",
   "execution_count": 100,
   "metadata": {},
   "outputs": [
    {
     "name": "stdout",
     "output_type": "stream",
     "text": [
      "Epoch 1/50\n",
      "422/422 [==============================] - 4s 10ms/step - loss: 0.2884 - accuracy: 0.8859 - val_loss: 0.2058 - val_accuracy: 0.9227\n",
      "Epoch 2/50\n",
      "422/422 [==============================] - 4s 10ms/step - loss: 0.0560 - accuracy: 0.9831 - val_loss: 0.2442 - val_accuracy: 0.9113\n",
      "Epoch 3/50\n",
      "422/422 [==============================] - 4s 10ms/step - loss: 0.0274 - accuracy: 0.9924 - val_loss: 0.2716 - val_accuracy: 0.9173\n",
      "Epoch 4/50\n",
      "422/422 [==============================] - 4s 10ms/step - loss: 0.0172 - accuracy: 0.9959 - val_loss: 0.2706 - val_accuracy: 0.9180\n",
      "Epoch 5/50\n",
      "422/422 [==============================] - 4s 10ms/step - loss: 0.0088 - accuracy: 0.9981 - val_loss: 0.3413 - val_accuracy: 0.9140\n",
      "Epoch 6/50\n",
      "422/422 [==============================] - 4s 10ms/step - loss: 0.0086 - accuracy: 0.9981 - val_loss: 0.3468 - val_accuracy: 0.9133\n",
      "Epoch 7/50\n",
      "422/422 [==============================] - 4s 10ms/step - loss: 0.0110 - accuracy: 0.9974 - val_loss: 0.2984 - val_accuracy: 0.9167\n",
      "Epoch 00007: early stopping\n"
     ]
    }
   ],
   "source": [
    "model62 = Sequential()\n",
    "model62.add(Dense(128, input_shape=(11275,), activation='sigmoid'))\n",
    "model62.add(Dense(64, activation='sigmoid'))\n",
    "model62.add(Dense(64, activation='sigmoid'))\n",
    "model62.add(Dense(1, activation='sigmoid'))\n",
    "\n",
    "model62.compile(optimizer='Adam', loss='binary_crossentropy', metrics=['accuracy'])\n",
    "\n",
    "results = model62.fit(X_train_transformed_scaled, y_train, validation_split=0.1, epochs=50, callbacks=[early_stop])"
   ]
  },
  {
   "cell_type": "code",
   "execution_count": 102,
   "metadata": {},
   "outputs": [
    {
     "name": "stdout",
     "output_type": "stream",
     "text": [
      "Epoch 1/50\n",
      "422/422 [==============================] - 3s 7ms/step - loss: 2.6146 - accuracy: 0.6840 - val_loss: 2.1908 - val_accuracy: 0.6993\n",
      "Epoch 2/50\n",
      "422/422 [==============================] - 3s 6ms/step - loss: 1.9091 - accuracy: 0.7221 - val_loss: 1.9335 - val_accuracy: 0.7053\n",
      "Epoch 3/50\n",
      "422/422 [==============================] - 3s 6ms/step - loss: 0.7926 - accuracy: 0.8473 - val_loss: 0.9226 - val_accuracy: 0.7920\n",
      "Epoch 4/50\n",
      "422/422 [==============================] - 3s 6ms/step - loss: 0.2750 - accuracy: 0.9381 - val_loss: 0.5196 - val_accuracy: 0.8260\n",
      "Epoch 5/50\n",
      "422/422 [==============================] - 3s 6ms/step - loss: 0.1302 - accuracy: 0.9801 - val_loss: 0.5943 - val_accuracy: 0.8353\n",
      "Epoch 6/50\n",
      "422/422 [==============================] - 2s 6ms/step - loss: 0.0901 - accuracy: 0.9913 - val_loss: 0.5995 - val_accuracy: 0.8420\n",
      "Epoch 7/50\n",
      "422/422 [==============================] - 2s 6ms/step - loss: 0.0791 - accuracy: 0.9933 - val_loss: 0.6511 - val_accuracy: 0.8413\n",
      "Epoch 8/50\n",
      "422/422 [==============================] - 2s 6ms/step - loss: 0.0737 - accuracy: 0.9944 - val_loss: 0.7039 - val_accuracy: 0.8420\n",
      "Epoch 9/50\n",
      "422/422 [==============================] - 2s 6ms/step - loss: 0.0717 - accuracy: 0.9946 - val_loss: 0.7440 - val_accuracy: 0.8440\n",
      "Epoch 10/50\n",
      "422/422 [==============================] - 3s 6ms/step - loss: 0.0695 - accuracy: 0.9950 - val_loss: 0.7946 - val_accuracy: 0.8460\n",
      "Epoch 11/50\n",
      "422/422 [==============================] - 3s 6ms/step - loss: 0.0681 - accuracy: 0.9951 - val_loss: 0.8097 - val_accuracy: 0.8473\n",
      "Epoch 12/50\n",
      "422/422 [==============================] - 2s 6ms/step - loss: 0.0673 - accuracy: 0.9942 - val_loss: 0.8630 - val_accuracy: 0.8440\n",
      "Epoch 13/50\n",
      "422/422 [==============================] - 2s 6ms/step - loss: 0.0691 - accuracy: 0.9944 - val_loss: 0.7817 - val_accuracy: 0.8460\n",
      "Epoch 14/50\n",
      "422/422 [==============================] - 2s 6ms/step - loss: 0.0748 - accuracy: 0.9914 - val_loss: 0.8352 - val_accuracy: 0.8560\n",
      "Epoch 15/50\n",
      "422/422 [==============================] - 3s 6ms/step - loss: 0.0752 - accuracy: 0.9930 - val_loss: 0.8693 - val_accuracy: 0.8567\n",
      "Epoch 16/50\n",
      "422/422 [==============================] - 3s 6ms/step - loss: 0.0674 - accuracy: 0.9927 - val_loss: 0.8458 - val_accuracy: 0.8527\n",
      "Epoch 17/50\n",
      "422/422 [==============================] - 2s 6ms/step - loss: 0.0787 - accuracy: 0.9924 - val_loss: 0.7960 - val_accuracy: 0.8573\n",
      "Epoch 18/50\n",
      "422/422 [==============================] - 3s 7ms/step - loss: 0.0760 - accuracy: 0.9941 - val_loss: 0.8566 - val_accuracy: 0.8620\n",
      "Epoch 19/50\n",
      "422/422 [==============================] - 3s 6ms/step - loss: 0.0684 - accuracy: 0.9950 - val_loss: 0.9317 - val_accuracy: 0.8633\n",
      "Epoch 20/50\n",
      "422/422 [==============================] - 3s 6ms/step - loss: 0.0640 - accuracy: 0.9953 - val_loss: 0.9303 - val_accuracy: 0.8667\n",
      "Epoch 21/50\n",
      "422/422 [==============================] - 3s 6ms/step - loss: 0.0638 - accuracy: 0.9958 - val_loss: 0.8979 - val_accuracy: 0.8720\n",
      "Epoch 22/50\n",
      "422/422 [==============================] - 3s 6ms/step - loss: 0.0634 - accuracy: 0.9959 - val_loss: 0.8883 - val_accuracy: 0.8727\n",
      "Epoch 23/50\n",
      "422/422 [==============================] - 3s 6ms/step - loss: 0.0629 - accuracy: 0.9958 - val_loss: 0.8581 - val_accuracy: 0.8653\n",
      "Epoch 24/50\n",
      "422/422 [==============================] - 3s 6ms/step - loss: 0.0607 - accuracy: 0.9956 - val_loss: 0.8829 - val_accuracy: 0.8813\n",
      "Epoch 25/50\n",
      "422/422 [==============================] - 3s 6ms/step - loss: 0.0623 - accuracy: 0.9956 - val_loss: 0.8366 - val_accuracy: 0.8787\n",
      "Epoch 26/50\n",
      "422/422 [==============================] - 3s 6ms/step - loss: 0.0614 - accuracy: 0.9959 - val_loss: 0.8585 - val_accuracy: 0.8767\n",
      "Epoch 27/50\n",
      "422/422 [==============================] - 3s 6ms/step - loss: 0.0634 - accuracy: 0.9956 - val_loss: 0.8944 - val_accuracy: 0.8773\n",
      "Epoch 28/50\n",
      "422/422 [==============================] - 3s 6ms/step - loss: 0.1444 - accuracy: 0.9777 - val_loss: 0.9672 - val_accuracy: 0.8520\n",
      "Epoch 29/50\n",
      "422/422 [==============================] - 3s 6ms/step - loss: 0.1469 - accuracy: 0.9787 - val_loss: 0.8536 - val_accuracy: 0.8607\n",
      "Epoch 30/50\n",
      "422/422 [==============================] - 3s 6ms/step - loss: 0.1040 - accuracy: 0.9916 - val_loss: 0.8759 - val_accuracy: 0.8567\n",
      "Epoch 31/50\n",
      "422/422 [==============================] - 3s 6ms/step - loss: 0.0929 - accuracy: 0.9935 - val_loss: 0.9160 - val_accuracy: 0.8613\n",
      "Epoch 32/50\n",
      "422/422 [==============================] - 3s 6ms/step - loss: 0.0858 - accuracy: 0.9937 - val_loss: 0.9023 - val_accuracy: 0.8627\n",
      "Epoch 33/50\n",
      "422/422 [==============================] - 3s 6ms/step - loss: 0.0746 - accuracy: 0.9921 - val_loss: 0.9360 - val_accuracy: 0.8580\n",
      "Epoch 34/50\n",
      "422/422 [==============================] - 3s 6ms/step - loss: 0.0712 - accuracy: 0.9948 - val_loss: 0.8936 - val_accuracy: 0.8647\n",
      "Epoch 35/50\n",
      "422/422 [==============================] - 3s 6ms/step - loss: 0.0692 - accuracy: 0.9955 - val_loss: 0.8959 - val_accuracy: 0.8673\n",
      "Epoch 36/50\n",
      "422/422 [==============================] - 3s 6ms/step - loss: 0.0690 - accuracy: 0.9955 - val_loss: 0.9089 - val_accuracy: 0.8633\n",
      "Epoch 37/50\n",
      "422/422 [==============================] - 3s 6ms/step - loss: 0.0689 - accuracy: 0.9955 - val_loss: 0.9075 - val_accuracy: 0.8687\n",
      "Epoch 38/50\n",
      "422/422 [==============================] - 3s 6ms/step - loss: 0.0689 - accuracy: 0.9955 - val_loss: 0.9018 - val_accuracy: 0.8687\n",
      "Epoch 39/50\n",
      "422/422 [==============================] - 3s 6ms/step - loss: 0.0688 - accuracy: 0.9955 - val_loss: 0.9169 - val_accuracy: 0.8673\n",
      "Epoch 40/50\n",
      "422/422 [==============================] - 3s 6ms/step - loss: 0.0688 - accuracy: 0.9955 - val_loss: 0.9061 - val_accuracy: 0.8680\n",
      "Epoch 41/50\n",
      "422/422 [==============================] - 3s 6ms/step - loss: 0.0688 - accuracy: 0.9955 - val_loss: 0.9146 - val_accuracy: 0.8700\n",
      "Epoch 42/50\n",
      "422/422 [==============================] - 3s 7ms/step - loss: 0.0688 - accuracy: 0.9955 - val_loss: 0.9161 - val_accuracy: 0.8707\n",
      "Epoch 43/50\n",
      "422/422 [==============================] - 3s 6ms/step - loss: 0.0694 - accuracy: 0.9950 - val_loss: 0.9462 - val_accuracy: 0.8767\n",
      "Epoch 44/50\n",
      "422/422 [==============================] - 3s 6ms/step - loss: 0.0771 - accuracy: 0.9941 - val_loss: 0.9693 - val_accuracy: 0.8793\n",
      "Epoch 45/50\n",
      "422/422 [==============================] - 3s 6ms/step - loss: 0.0745 - accuracy: 0.9942 - val_loss: 0.9529 - val_accuracy: 0.8873\n",
      "Epoch 46/50\n",
      "422/422 [==============================] - 3s 6ms/step - loss: 0.0787 - accuracy: 0.9925 - val_loss: 1.0129 - val_accuracy: 0.8793\n",
      "Epoch 47/50\n",
      "422/422 [==============================] - 3s 6ms/step - loss: 0.0623 - accuracy: 0.9954 - val_loss: 0.9679 - val_accuracy: 0.8767\n",
      "Epoch 48/50\n",
      "422/422 [==============================] - 3s 6ms/step - loss: 0.0609 - accuracy: 0.9960 - val_loss: 0.9918 - val_accuracy: 0.8807\n",
      "Epoch 49/50\n",
      "422/422 [==============================] - 3s 6ms/step - loss: 0.0607 - accuracy: 0.9961 - val_loss: 1.0080 - val_accuracy: 0.8760\n",
      "Epoch 50/50\n",
      "422/422 [==============================] - 2s 6ms/step - loss: 0.0591 - accuracy: 0.9958 - val_loss: 0.9416 - val_accuracy: 0.8787\n"
     ]
    }
   ],
   "source": [
    "model7 = Sequential()\n",
    "model7.add(Dense(64, input_shape=(11275,), activation='tanh'))\n",
    "model7.add(Dense(32, activation='tanh'))\n",
    "model7.add(Dense(16, activation='tanh'))\n",
    "model7.add(Dense(1, activation='tanh'))\n",
    "\n",
    "model7.compile(optimizer='Adam', loss='binary_crossentropy', metrics=['accuracy'])\n",
    "\n",
    "results = model7.fit(X_train_transformed_scaled, y_train, validation_split=0.1, epochs=50)#, callbacks=[early_stop])"
   ]
  },
  {
   "cell_type": "markdown",
   "metadata": {},
   "source": [
    "## Choose best model and test on holdout data"
   ]
  },
  {
   "cell_type": "code",
   "execution_count": 117,
   "metadata": {},
   "outputs": [
    {
     "name": "stdout",
     "output_type": "stream",
     "text": [
      "Epoch 1/50\n",
      "422/422 [==============================] - 3s 7ms/step - loss: 0.3747 - accuracy: 0.8576 - val_loss: 0.2117 - val_accuracy: 0.9227\n",
      "Epoch 2/50\n",
      "422/422 [==============================] - 3s 6ms/step - loss: 0.1040 - accuracy: 0.9706 - val_loss: 0.2240 - val_accuracy: 0.9180\n",
      "Epoch 3/50\n",
      "422/422 [==============================] - 3s 6ms/step - loss: 0.0372 - accuracy: 0.9917 - val_loss: 0.2610 - val_accuracy: 0.9187\n",
      "Epoch 4/50\n",
      "422/422 [==============================] - 3s 6ms/step - loss: 0.0187 - accuracy: 0.9967 - val_loss: 0.2902 - val_accuracy: 0.9167\n",
      "Epoch 5/50\n",
      "422/422 [==============================] - 3s 6ms/step - loss: 0.0107 - accuracy: 0.9985 - val_loss: 0.3241 - val_accuracy: 0.9153\n",
      "Epoch 6/50\n",
      "422/422 [==============================] - 3s 6ms/step - loss: 0.0074 - accuracy: 0.9991 - val_loss: 0.3469 - val_accuracy: 0.9153\n",
      "Epoch 7/50\n",
      "422/422 [==============================] - 3s 6ms/step - loss: 0.0059 - accuracy: 0.9992 - val_loss: 0.4065 - val_accuracy: 0.9093\n",
      "Epoch 8/50\n",
      "422/422 [==============================] - 3s 6ms/step - loss: 0.0045 - accuracy: 0.9994 - val_loss: 0.4823 - val_accuracy: 0.8927\n",
      "Epoch 9/50\n",
      "422/422 [==============================] - 3s 6ms/step - loss: 0.0053 - accuracy: 0.9993 - val_loss: 0.4291 - val_accuracy: 0.9067\n",
      "Epoch 10/50\n",
      "422/422 [==============================] - 3s 6ms/step - loss: 0.0040 - accuracy: 0.9995 - val_loss: 0.4827 - val_accuracy: 0.9033\n",
      "Epoch 11/50\n",
      "422/422 [==============================] - 3s 6ms/step - loss: 0.0034 - accuracy: 0.9995 - val_loss: 0.5032 - val_accuracy: 0.8947\n",
      "Epoch 12/50\n",
      "422/422 [==============================] - 3s 6ms/step - loss: 0.0043 - accuracy: 0.9992 - val_loss: 0.4541 - val_accuracy: 0.9087\n",
      "Epoch 13/50\n",
      "422/422 [==============================] - 3s 6ms/step - loss: 0.0071 - accuracy: 0.9984 - val_loss: 0.4884 - val_accuracy: 0.8967\n",
      "Epoch 14/50\n",
      "422/422 [==============================] - 3s 6ms/step - loss: 0.0082 - accuracy: 0.9980 - val_loss: 0.4822 - val_accuracy: 0.8927\n",
      "Epoch 15/50\n",
      "422/422 [==============================] - 3s 6ms/step - loss: 0.0050 - accuracy: 0.9986 - val_loss: 0.5116 - val_accuracy: 0.8887\n",
      "Epoch 16/50\n",
      "422/422 [==============================] - 3s 6ms/step - loss: 0.0045 - accuracy: 0.9990 - val_loss: 0.4517 - val_accuracy: 0.9087\n",
      "Epoch 17/50\n",
      "422/422 [==============================] - 3s 6ms/step - loss: 0.0018 - accuracy: 0.9997 - val_loss: 0.4651 - val_accuracy: 0.9080\n",
      "Epoch 18/50\n",
      "422/422 [==============================] - 2s 6ms/step - loss: 0.0012 - accuracy: 0.9999 - val_loss: 0.4518 - val_accuracy: 0.9133\n",
      "Epoch 19/50\n",
      "422/422 [==============================] - 2s 6ms/step - loss: 9.4389e-04 - accuracy: 0.9999 - val_loss: 0.4742 - val_accuracy: 0.9120\n",
      "Epoch 20/50\n",
      "422/422 [==============================] - 2s 6ms/step - loss: 8.7309e-04 - accuracy: 0.9999 - val_loss: 0.4873 - val_accuracy: 0.9113\n",
      "Epoch 21/50\n",
      "422/422 [==============================] - 2s 6ms/step - loss: 8.3499e-04 - accuracy: 0.9999 - val_loss: 0.4997 - val_accuracy: 0.9113\n",
      "Epoch 22/50\n",
      "422/422 [==============================] - 2s 6ms/step - loss: 8.0819e-04 - accuracy: 0.9999 - val_loss: 0.5120 - val_accuracy: 0.9113\n",
      "Epoch 23/50\n",
      "422/422 [==============================] - 2s 6ms/step - loss: 7.8747e-04 - accuracy: 0.9999 - val_loss: 0.5090 - val_accuracy: 0.9147\n",
      "Epoch 24/50\n",
      "422/422 [==============================] - 3s 6ms/step - loss: 7.6867e-04 - accuracy: 0.9999 - val_loss: 0.5152 - val_accuracy: 0.9160\n",
      "Epoch 25/50\n",
      "422/422 [==============================] - 2s 6ms/step - loss: 7.5194e-04 - accuracy: 0.9999 - val_loss: 0.5127 - val_accuracy: 0.9127\n",
      "Epoch 26/50\n",
      "422/422 [==============================] - 2s 6ms/step - loss: 7.3227e-04 - accuracy: 0.9999 - val_loss: 0.5200 - val_accuracy: 0.9133\n",
      "Epoch 27/50\n",
      "422/422 [==============================] - 3s 6ms/step - loss: 6.8484e-04 - accuracy: 0.9999 - val_loss: 0.5295 - val_accuracy: 0.9120\n",
      "Epoch 28/50\n",
      "422/422 [==============================] - 3s 6ms/step - loss: 5.6934e-04 - accuracy: 0.9999 - val_loss: 0.5487 - val_accuracy: 0.9113\n",
      "Epoch 29/50\n",
      "422/422 [==============================] - 3s 6ms/step - loss: 0.0021 - accuracy: 0.9995 - val_loss: 0.5796 - val_accuracy: 0.9080\n",
      "Epoch 30/50\n",
      "422/422 [==============================] - 3s 6ms/step - loss: 0.0028 - accuracy: 0.9994 - val_loss: 0.5948 - val_accuracy: 0.9047\n",
      "Epoch 31/50\n",
      "422/422 [==============================] - 3s 6ms/step - loss: 0.0024 - accuracy: 0.9995 - val_loss: 0.5756 - val_accuracy: 0.9067\n",
      "Epoch 32/50\n",
      "422/422 [==============================] - 2s 6ms/step - loss: 0.0021 - accuracy: 0.9996 - val_loss: 0.5641 - val_accuracy: 0.9033\n",
      "Epoch 33/50\n",
      "422/422 [==============================] - 2s 6ms/step - loss: 0.0024 - accuracy: 0.9994 - val_loss: 0.5573 - val_accuracy: 0.9007\n",
      "Epoch 34/50\n",
      "422/422 [==============================] - 2s 6ms/step - loss: 8.9097e-04 - accuracy: 0.9997 - val_loss: 0.5453 - val_accuracy: 0.9047\n",
      "Epoch 35/50\n",
      "422/422 [==============================] - 3s 6ms/step - loss: 7.3397e-04 - accuracy: 0.9999 - val_loss: 0.5308 - val_accuracy: 0.9060\n",
      "Epoch 36/50\n",
      "422/422 [==============================] - 3s 6ms/step - loss: 2.0599e-04 - accuracy: 0.9999 - val_loss: 0.5620 - val_accuracy: 0.9000\n",
      "Epoch 37/50\n",
      "422/422 [==============================] - 3s 6ms/step - loss: 1.2770e-04 - accuracy: 1.0000 - val_loss: 0.5632 - val_accuracy: 0.9073\n",
      "Epoch 38/50\n",
      "422/422 [==============================] - 2s 6ms/step - loss: 7.0334e-05 - accuracy: 1.0000 - val_loss: 0.5743 - val_accuracy: 0.9067\n",
      "Epoch 39/50\n",
      "422/422 [==============================] - 3s 6ms/step - loss: 5.9805e-05 - accuracy: 1.0000 - val_loss: 0.5867 - val_accuracy: 0.9073\n",
      "Epoch 40/50\n",
      "422/422 [==============================] - 2s 6ms/step - loss: 5.0231e-05 - accuracy: 1.0000 - val_loss: 0.5987 - val_accuracy: 0.9093\n",
      "Epoch 41/50\n",
      "422/422 [==============================] - 2s 6ms/step - loss: 4.2674e-05 - accuracy: 1.0000 - val_loss: 0.6118 - val_accuracy: 0.9093\n",
      "Epoch 42/50\n",
      "422/422 [==============================] - 3s 6ms/step - loss: 3.6217e-05 - accuracy: 1.0000 - val_loss: 0.6266 - val_accuracy: 0.9087\n",
      "Epoch 43/50\n",
      "422/422 [==============================] - 3s 6ms/step - loss: 3.0616e-05 - accuracy: 1.0000 - val_loss: 0.6409 - val_accuracy: 0.9087\n",
      "Epoch 44/50\n",
      "422/422 [==============================] - 3s 6ms/step - loss: 2.5816e-05 - accuracy: 1.0000 - val_loss: 0.6553 - val_accuracy: 0.9087\n",
      "Epoch 45/50\n",
      "422/422 [==============================] - 2s 6ms/step - loss: 2.1680e-05 - accuracy: 1.0000 - val_loss: 0.6705 - val_accuracy: 0.9093\n",
      "Epoch 46/50\n",
      "422/422 [==============================] - 3s 6ms/step - loss: 1.8142e-05 - accuracy: 1.0000 - val_loss: 0.6865 - val_accuracy: 0.9093\n",
      "Epoch 47/50\n",
      "422/422 [==============================] - 2s 6ms/step - loss: 1.5102e-05 - accuracy: 1.0000 - val_loss: 0.7019 - val_accuracy: 0.9093\n",
      "Epoch 48/50\n",
      "422/422 [==============================] - 2s 6ms/step - loss: 1.2546e-05 - accuracy: 1.0000 - val_loss: 0.7175 - val_accuracy: 0.9093\n",
      "Epoch 49/50\n",
      "422/422 [==============================] - 2s 6ms/step - loss: 1.0402e-05 - accuracy: 1.0000 - val_loss: 0.7347 - val_accuracy: 0.9080\n",
      "Epoch 50/50\n",
      "422/422 [==============================] - 2s 6ms/step - loss: 8.5800e-06 - accuracy: 1.0000 - val_loss: 0.7514 - val_accuracy: 0.9073\n"
     ]
    }
   ],
   "source": [
    "final_model = Sequential()\n",
    "final_model.add(Dense(64, input_shape=(11275,), activation='sigmoid'))\n",
    "final_model.add(Dense(32, activation='sigmoid'))\n",
    "final_model.add(Dense(16, activation='sigmoid'))\n",
    "final_model.add(Dense(1, activation='sigmoid'))\n",
    "\n",
    "final_model.compile(optimizer='Adam', loss='binary_crossentropy', metrics=['accuracy'])\n",
    "\n",
    "results = final_model.fit(X_train_transformed_scaled, y_train, validation_split=0.1, epochs=50)  #, callbacks=[early_stop])"
   ]
  },
  {
   "cell_type": "code",
   "execution_count": 119,
   "metadata": {},
   "outputs": [],
   "source": [
    "y_preds = final_model.predict(X_test_transformed_scaled)"
   ]
  },
  {
   "cell_type": "code",
   "execution_count": 106,
   "metadata": {},
   "outputs": [],
   "source": [
    "from sklearn.metrics import plot_confusion_matrix"
   ]
  },
  {
   "cell_type": "code",
   "execution_count": null,
   "metadata": {},
   "outputs": [],
   "source": []
  },
  {
   "cell_type": "code",
   "execution_count": 126,
   "metadata": {},
   "outputs": [],
   "source": [
    "for i in range(len(y_preds)):\n",
    "    if y_preds[i] > 0.5:\n",
    "        y_preds[i] = 1\n",
    "    \n",
    "    else:\n",
    "        y_preds[i] = 0"
   ]
  },
  {
   "cell_type": "code",
   "execution_count": 113,
   "metadata": {},
   "outputs": [],
   "source": [
    "from sklearn.metrics import confusion_matrix"
   ]
  },
  {
   "cell_type": "code",
   "execution_count": 140,
   "metadata": {},
   "outputs": [
    {
     "data": {
      "text/plain": [
       "array([[2323,  188],\n",
       "       [ 289, 2200]], dtype=int64)"
      ]
     },
     "execution_count": 140,
     "metadata": {},
     "output_type": "execute_result"
    }
   ],
   "source": [
    "cm = confusion_matrix(y_test, y_preds)\n",
    "cm"
   ]
  },
  {
   "cell_type": "code",
   "execution_count": 133,
   "metadata": {},
   "outputs": [],
   "source": [
    "df_confusion = pd.DataFrame(cm, columns = ['0' , '1'], index = ['0','1'])"
   ]
  },
  {
   "cell_type": "code",
   "execution_count": 139,
   "metadata": {},
   "outputs": [
    {
     "data": {
      "image/png": "[encoded data removed]",
      "text/plain": [
       "<Figure size 288x288 with 2 Axes>"
      ]
     },
     "metadata": {
      "needs_background": "light"
     },
     "output_type": "display_data"
    }
   ],
   "source": [
    "import matplotlib.pyplot as plt\n",
    "def plot_confusion_matrix(df_confusion, title='Confusion matrix', cmap='viridis'):\n",
    "    plt.matshow(df_confusion, cmap=cmap) # imshow\n",
    "    #plt.title(title)\n",
    "    plt.colorbar()\n",
    "    tick_marks = np.arange(len(df_confusion.columns))\n",
    "    plt.xticks(tick_marks, df_confusion.columns, rotation=45)\n",
    "    plt.yticks(tick_marks, df_confusion.index)\n",
    "    #plt.tight_layout()\n",
    "    plt.ylabel(df_confusion.index.name)\n",
    "    plt.xlabel(df_confusion.columns.name)\n",
    "\n",
    "plot_confusion_matrix(df_confusion)"
   ]
  },
  {
   "cell_type": "markdown",
   "metadata": {},
   "source": [
    "## Communicate Results"
   ]
  },
  {
   "cell_type": "markdown",
   "metadata": {},
   "source": [
    "The \"best mode\" produced with the Neural Networks was able to predict on test data with a maximum of about 92% accuracy. This is a modest improvement over the Random Forest Classifier's 91% accuracy. Based on the analysis, I recommend the Northwind Trading continues to use the Random Forest Classifier for the time being, pending further research. "
   ]
  },
  {
   "cell_type": "markdown",
   "metadata": {},
   "source": [
    "### 1) Data Preparation\n",
    "\n",
    "A train-test split has already been performed.\n",
    "\n",
    "Additionally, there is already a pipeline in place that drops some columns and converts all text columns into a numeric format for modeling.\n",
    "\n",
    "**Your only additional data preparation task is feature scaling.**  Tree-based models like Random Forest Classifiers do not require scaling, but TensorFlow neural networks do.\n",
    "\n",
    "There are two main strategies you can take for this task:\n",
    "\n",
    "#### Scaling within the existing pipeline\n",
    "\n",
    "If you are comfortable with pipelines, this is the more polished/professional route.\n",
    "\n",
    "1. Make a new pipeline, with a `StandardScaler` as the final step.  You can nest the steps of the previous pipeline inside of this new pipeline\n",
    "2. Generate a new `X_train_transformed_scaled` by calling `.fit_transform` on the new pipeline\n",
    "3. Generate a new `X_test_transformed_scaled` by calling `.transform` on the new pipeline\n",
    "\n",
    "#### Scaling after the pipeline has finished\n",
    "\n",
    "This is a better strategy if you are not as comfortable with pipelines.\n",
    "\n",
    "1. Instantiate a `StandardScaler` object\n",
    "2. Generate a new `X_train_transformed_scaled` by calling `.fit_transform` on the scaler object, after you have called `.fit_transform` on the pipeline\n",
    "3. Generate a new `X_test_transformed_scaled` by calling `.transform` on the scaler object, after you have called `.transform` on the pipeline\n",
    "\n",
    "If you are getting stuck at this step, skip it.  The model will still be able to fit, although the performance will be worse.  Keep in mind whether or not you scaled the data in your final analysis."
   ]
  },
  {
   "cell_type": "markdown",
   "metadata": {},
   "source": [
    "### 2) Modeling\n",
    "\n",
    "Build a neural network classifier.  Specifically, use the `keras` submodule of the `tensorflow` library to build a multi-layer perceptron model with the `Sequential` interface.\n",
    "\n",
    "See the [`tf.keras` documentation](https://www.tensorflow.org/guide/keras/overview) for an overview on the use of `Sequential` models. See the [Keras layers documentation](https://keras.io/layers/core/) for descriptions of the `Dense` layer options.  \n",
    "\n",
    "1. Instantiate a `Sequential` model\n",
    "2. Add an input `Dense` layer.  You'll need to specify a `input_shape` = (11275,) because this is the number of features of the transformed dataset.\n",
    "3. Add 2 `Dense` hidden layers.  They can have any number of units, but keep in mind that more units will require more processing power.  We recommend an initial `units` of 64 for processing power reasons.\n",
    "4. Add a final `Dense` output layer.  This layer must have exactly 1 unit because we are doing a binary prediction task.\n",
    "5. Compile the `Sequential` model\n",
    "6. Fit the `Sequential` model on the preprocessed training data (`X_train_transformed_scaled`) with a b`batch_size` of 50 and `epochs` of 5 for processing power reasons.\n"
   ]
  },
  {
   "cell_type": "markdown",
   "metadata": {},
   "source": [
    "### 3) Model Tuning + Feature Engineering\n",
    "\n",
    "If you are running out of time, skip this step.\n",
    "\n",
    "Tune the neural network model to improve performance.  This could include steps such as increasing the units, changing the activation functions, or adding regularization.\n",
    "\n",
    "We recommend using using a `validation_split` of 0.1 to understand model performance without utilizing the test holdout set.\n",
    "\n",
    "You can also return to the preprocessing phase, and add additional features to the model."
   ]
  },
  {
   "cell_type": "markdown",
   "metadata": {},
   "source": [
    "### 4) Model Evaluation\n",
    "\n",
    "Choose a final `Sequential` model, add layers, and compile.  Fit the model on the preprocessed training data (`X_train_transformed_scaled`, `y_train`) and evaluate on the preprocessed testing data (`X_test_transformed_scaled`, `y_test`) using `accuracy_score`."
   ]
  },
  {
   "cell_type": "markdown",
   "metadata": {},
   "source": [
    "### 5) Technical Communication\n",
    "\n",
    "Write a paragraph explaining whether Northwind Trading Company should switch to using your new neural network model, or continue to use the Random Forest Classifier.  Beyond a simple comparison of performance, try to take into consideration additional considerations such as:\n",
    "\n",
    " - Computational complexity/resource use\n",
    " - Anticipated performance on future datasets (how might the data change over time?)\n",
    " - Types of mistakes made by the two kinds of models\n",
    "\n",
    "You can make guesses or inferences about these considerations.\n",
    "\n",
    "**Include at least one visualization** comparing the two types of models.  Possible points of comparison could include ROC curves, colorized confusion matrices, or time needed to train.\n"
   ]
  },
  {
   "cell_type": "code",
   "execution_count": null,
   "metadata": {},
   "outputs": [],
   "source": []
  },
  {
   "cell_type": "code",
   "execution_count": null,
   "metadata": {},
   "outputs": [],
   "source": []
  },
  {
   "cell_type": "code",
   "execution_count": null,
   "metadata": {},
   "outputs": [],
   "source": []
  },
  {
   "cell_type": "code",
   "execution_count": null,
   "metadata": {},
   "outputs": [],
   "source": []
  }
 ],
 "metadata": {
  "kernelspec": {
   "display_name": "Python 3",
   "language": "python",
   "name": "python3"
  },
  "language_info": {
   "codemirror_mode": {
    "name": "ipython",
    "version": 3
   },
   "file_extension": ".py",
   "mimetype": "text/x-python",
   "name": "python",
   "nbconvert_exporter": "python",
   "pygments_lexer": "ipython3",
   "version": "3.8.2"
  }
 },
 "nbformat": 4,
 "nbformat_minor": 4
}
